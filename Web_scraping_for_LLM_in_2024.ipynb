{
  "cells": [
    {
      "cell_type": "markdown",
      "metadata": {
        "id": "view-in-github"
      },
      "source": [
        "<a href=\"https://colab.research.google.com/github/trancethehuman/ai-workshop-code/blob/main/Web_scraping_for_LLM_in_2024.ipynb\" target=\"_parent\"><img src=\"https://colab.research.google.com/assets/colab-badge.svg\" alt=\"Open In Colab\"/></a>"
      ]
    },
    {
      "cell_type": "markdown",
      "metadata": {
        "id": "9My-G2T0ZCN0"
      },
      "source": [
        "## Let's setup our test: Get my competitors' pricing from their websites\n",
        "\n",
        "This is real. I am doing this not for shits and giggles.\n",
        "\n",
        "I'm building an interactive learning platform where content is taught using AI. Seems like everyone else is focusing on augmenting the authoring process and not the learning experience, but whatever."
      ]
    },
    {
      "cell_type": "code",
      "execution_count": null,
      "metadata": {
        "id": "5svJvWdJZPMw"
      },
      "outputs": [],
      "source": [
        "competitor_sites = [\n",
        "    {\n",
        "        \"name\": \"Poshmark\",\n",
        "        \"url\": \"https://poshmark.com/category/Women-Dresses\"\n",
        "    },\n",
        "    {\n",
        "        \"name\": \"dpop\",\n",
        "        \"url\": \"https://www.depop.com/category/womens/dresses/\"\n",
        "    },\n",
        "    {\n",
        "        \"name\": \"vinted\",\n",
        "        \"url\": \"https://www.vinted.com/catalog/10-dresses\"\n",
        "    },\n",
        "\n",
        "]"
      ]
    },
    {
      "cell_type": "markdown",
      "metadata": {
        "id": "uH7ec-0ddM8X"
      },
      "source": [
        "### Let's setup cost calculations\n",
        "\n",
        "So we can compare them side-by-side"
      ]
    },
    {
      "cell_type": "markdown",
      "metadata": {
        "id": "QJWAErlShOZ7"
      },
      "source": [
        "We can calculate how much it'll cost by using OpenAI's `tiktoken` library.\n",
        "\n",
        "(side note: as of today, OpenAI hasn't updated `tiktoken` with the actual algorithm used to in `gpt-4o`, so we'll guesstimate using `gpt-4` tokenization encoding (cl100k_base)."
      ]
    },
    {
      "cell_type": "code",
      "execution_count": null,
      "metadata": {
        "colab": {
          "base_uri": "https://localhost:8080/"
        },
        "id": "SNMRdbmWhe6D",
        "outputId": "69fb5379-75d5-4775-b170-dc93aeceb0f6"
      },
      "outputs": [
        {
          "name": "stdout",
          "output_type": "stream",
          "text": [
            "\u001b[?25l     \u001b[90m━━━━━━━━━━━━━━━━━━━━━━━━━━━━━━━━━━━━━━━━\u001b[0m \u001b[32m0.0/1.1 MB\u001b[0m \u001b[31m?\u001b[0m eta \u001b[36m-:--:--\u001b[0m\r\u001b[2K     \u001b[91m━━━━\u001b[0m\u001b[91m╸\u001b[0m\u001b[90m━━━━━━━━━━━━━━━━━━━━━━━━━━━━━━━━━━━\u001b[0m \u001b[32m0.1/1.1 MB\u001b[0m \u001b[31m3.5 MB/s\u001b[0m eta \u001b[36m0:00:01\u001b[0m\r\u001b[2K     \u001b[91m━━━━━━━━━━━━━━━━━━━━━━━━━━━━━━━━━━━━━━━\u001b[0m\u001b[91m╸\u001b[0m \u001b[32m1.1/1.1 MB\u001b[0m \u001b[31m16.9 MB/s\u001b[0m eta \u001b[36m0:00:01\u001b[0m\r\u001b[2K     \u001b[90m━━━━━━━━━━━━━━━━━━━━━━━━━━━━━━━━━━━━━━━━\u001b[0m \u001b[32m1.1/1.1 MB\u001b[0m \u001b[31m11.9 MB/s\u001b[0m eta \u001b[36m0:00:00\u001b[0m\n",
            "\u001b[?25h"
          ]
        }
      ],
      "source": [
        "pip install tiktoken --quiet"
      ]
    },
    {
      "cell_type": "code",
      "execution_count": null,
      "metadata": {
        "colab": {
          "base_uri": "https://localhost:8080/"
        },
        "id": "hGspe9jidY2t",
        "outputId": "e4a9aa37-e2c3-4c73-d98b-e060a1af8b21"
      },
      "outputs": [
        {
          "name": "stdout",
          "output_type": "stream",
          "text": [
            "The total cost for using gpt-4o is: $US 0.000135\n"
          ]
        }
      ],
      "source": [
        "import tiktoken\n",
        "\n",
        "def count_tokens(input_string: str) -> int:\n",
        "    tokenizer = tiktoken.get_encoding(\"cl100k_base\")\n",
        "\n",
        "    tokens = tokenizer.encode(input_string)\n",
        "\n",
        "    return len(tokens)\n",
        "\n",
        "def calculate_cost(input_string: str, cost_per_million_tokens: float = 5) -> float:\n",
        "    num_tokens = count_tokens(input_string)\n",
        "\n",
        "    total_cost = (num_tokens / 1_000_000) * cost_per_million_tokens\n",
        "\n",
        "    return total_cost\n",
        "\n",
        "# Example usage:\n",
        "input_string = \"What's the difference between beer nuts and deer nuts? Beer nuts are about 5 dollars. Deer nuts are just under a buck.\"\n",
        "cost = calculate_cost(input_string)\n",
        "print(f\"The total cost for using gpt-4o is: $US {cost:.6f}\")"
      ]
    },
    {
      "cell_type": "markdown",
      "metadata": {
        "id": "k8QPEEMmipKm"
      },
      "source": [
        "### Additionally, I want to see the test results in a nice table, so let's set that up."
      ]
    },
    {
      "cell_type": "code",
      "execution_count": null,
      "metadata": {
        "id": "sIu1-oLziuPO"
      },
      "outputs": [],
      "source": [
        "pip install prettytable tqdm --quiet"
      ]
    },
    {
      "cell_type": "code",
      "execution_count": null,
      "metadata": {
        "id": "K593G9Xh8Lln"
      },
      "outputs": [],
      "source": [
        "from typing import List, Callable, Dict\n",
        "from prettytable import PrettyTable, ALL\n",
        "from tqdm import tqdm\n",
        "\n",
        "def view_scraped_content(scrape_url_functions: List[Dict[str, Callable[[str], str]]], sites_list: List[Dict[str, str]], characters_to_display: int = 500, table_max_width: int = 50) -> List[Dict[str, str]]:\n",
        "    content_table_headers = [\"Site Name\"] + [f\"{func['name']} content\" for func in scrape_url_functions]\n",
        "    cost_table_headers = [\"Site Name\"] + [f\"{func['name']} cost\" for func in scrape_url_functions]\n",
        "\n",
        "    content_table = PrettyTable()\n",
        "    content_table.field_names = content_table_headers\n",
        "\n",
        "    cost_table = PrettyTable()\n",
        "    cost_table.field_names = cost_table_headers\n",
        "\n",
        "    scraped_data = []\n",
        "\n",
        "    for site in sites_list:\n",
        "        content_row = [site['name']]\n",
        "        cost_row = [site['name']]\n",
        "        site_data = {\"provider\": site['name'], \"sites\": []}\n",
        "\n",
        "        for scrape_function in scrape_url_functions:\n",
        "            function_name = scrape_function['name']\n",
        "            for _ in tqdm([site], desc=f\"Processing site {site['name']} using {function_name}\"):\n",
        "                try:\n",
        "                    content = scrape_function['function'](site['url'])\n",
        "                    content_snippet = content[:characters_to_display]\n",
        "                    content_row.append(content_snippet)\n",
        "\n",
        "                    cost = calculate_cost(content)\n",
        "                    cost_row.append(f\"${cost:.6f}\")\n",
        "\n",
        "                    site_data[\"sites\"].append({\"name\": function_name, \"content\": content})\n",
        "                except Exception as e:\n",
        "                    error_message = f\"Error: {str(e)}\"\n",
        "                    content_row.append(error_message)\n",
        "                    cost_row.append(\"Error\")\n",
        "\n",
        "                    site_data[\"sites\"].append({\"name\": function_name, \"content\": error_message})\n",
        "                    continue\n",
        "\n",
        "        content_table.add_row(content_row)\n",
        "        cost_table.add_row(cost_row)\n",
        "        scraped_data.append(site_data)\n",
        "\n",
        "    content_table.max_width = table_max_width\n",
        "    content_table.hrules = ALL\n",
        "\n",
        "    cost_table.max_width = table_max_width\n",
        "    cost_table.hrules = ALL\n",
        "\n",
        "    print(\"Content Table:\")\n",
        "    print(content_table)\n",
        "\n",
        "    print(\"\\nCost Table:\\nThis is how much it would cost to use gpt-4o to parse this content for extraction.\")\n",
        "    print(cost_table)\n",
        "\n",
        "    return scraped_data\n",
        "\n"
      ]
    },
    {
      "cell_type": "markdown",
      "metadata": {
        "id": "cqfJC7InYcm5"
      },
      "source": [
        "## Setup all the scrapers\n",
        "\n",
        "Let's setup all of our scrapers."
      ]
    },
    {
      "cell_type": "markdown",
      "metadata": {
        "id": "LMx4qMhlcnOA"
      },
      "source": [
        "### Beautiful Soup"
      ]
    },
    {
      "cell_type": "code",
      "execution_count": null,
      "metadata": {
        "id": "mtEoxl-j4wvf"
      },
      "outputs": [],
      "source": [
        "pip install requests beautifulsoup4 --quiet"
      ]
    },
    {
      "cell_type": "code",
      "execution_count": null,
      "metadata": {
        "id": "jqwpe5AuZBYA"
      },
      "outputs": [],
      "source": [
        "# Beautiful Soup utility functions\n",
        "\n",
        "import requests\n",
        "from bs4 import BeautifulSoup\n",
        "\n",
        "def beautiful_soup_scrape_url(url: str):\n",
        "    response = requests.get(url)\n",
        "    soup = BeautifulSoup(response.content, 'html.parser')\n",
        "    return str(soup)\n"
      ]
    },
    {
      "cell_type": "markdown",
      "metadata": {
        "id": "5JzWHcoCc1uC"
      },
      "source": [
        "### Reader API by Jina AI\n",
        "\n",
        "Let's setup Jina AI's scrape method. This one is dead easy."
      ]
    },
    {
      "cell_type": "code",
      "execution_count": null,
      "metadata": {
        "id": "5ccgu2JZc4xL"
      },
      "outputs": [],
      "source": [
        "import requests\n",
        "\n",
        "def scrape_jina_ai(url: str) -> str:\n",
        "  response = requests.get(\"https://r.jina.ai/\" + url)\n",
        "  return response.text"
      ]
    },
    {
      "cell_type": "markdown",
      "metadata": {
        "id": "xhGYMijjNrvF"
      },
      "source": [
        "### Firecrawl from Mendable."
      ]
    },
    {
      "cell_type": "code",
      "execution_count": null,
      "metadata": {
        "id": "c59LRZZ-NtuR"
      },
      "outputs": [],
      "source": [
        "pip install firecrawl-py --quiet"
      ]
    },
    {
      "cell_type": "code",
      "execution_count": null,
      "metadata": {
        "colab": {
          "base_uri": "https://localhost:8080/",
          "height": 356
        },
        "collapsed": true,
        "id": "-AuHJTiwOQID",
        "outputId": "a9605ae3-fd1b-4626-c8b4-f6c3b6b1d245"
      },
      "outputs": [
        {
          "ename": "KeyboardInterrupt",
          "evalue": "Interrupted by user",
          "output_type": "error",
          "traceback": [
            "\u001b[0;31m---------------------------------------------------------------------------\u001b[0m",
            "\u001b[0;31mKeyboardInterrupt\u001b[0m                         Traceback (most recent call last)",
            "\u001b[0;32m<ipython-input-10-6febd2c5ffb6>\u001b[0m in \u001b[0;36m<cell line: 4>\u001b[0;34m()\u001b[0m\n\u001b[1;32m      2\u001b[0m \u001b[0;32mimport\u001b[0m \u001b[0mgetpass\u001b[0m\u001b[0;34m\u001b[0m\u001b[0;34m\u001b[0m\u001b[0m\n\u001b[1;32m      3\u001b[0m \u001b[0;34m\u001b[0m\u001b[0m\n\u001b[0;32m----> 4\u001b[0;31m \u001b[0mFIRECRAWL_API_KEY\u001b[0m \u001b[0;34m=\u001b[0m \u001b[0mgetpass\u001b[0m\u001b[0;34m.\u001b[0m\u001b[0mgetpass\u001b[0m\u001b[0;34m(\u001b[0m\u001b[0;34m\"Mendable API Key: \"\u001b[0m\u001b[0;34m)\u001b[0m\u001b[0;34m\u001b[0m\u001b[0;34m\u001b[0m\u001b[0m\n\u001b[0m\u001b[1;32m      5\u001b[0m \u001b[0;34m\u001b[0m\u001b[0m\n\u001b[1;32m      6\u001b[0m \u001b[0;32mdef\u001b[0m \u001b[0mscrape_firecrawl\u001b[0m\u001b[0;34m(\u001b[0m\u001b[0murl\u001b[0m\u001b[0;34m:\u001b[0m \u001b[0mstr\u001b[0m\u001b[0;34m)\u001b[0m\u001b[0;34m:\u001b[0m\u001b[0;34m\u001b[0m\u001b[0;34m\u001b[0m\u001b[0m\n",
            "\u001b[0;32m/usr/local/lib/python3.10/dist-packages/ipykernel/kernelbase.py\u001b[0m in \u001b[0;36mgetpass\u001b[0;34m(self, prompt, stream)\u001b[0m\n\u001b[1;32m    832\u001b[0m             warnings.warn(\"The `stream` parameter of `getpass.getpass` will have no effect when using ipykernel\",\n\u001b[1;32m    833\u001b[0m                     UserWarning, stacklevel=2)\n\u001b[0;32m--> 834\u001b[0;31m         return self._input_request(prompt,\n\u001b[0m\u001b[1;32m    835\u001b[0m             \u001b[0mself\u001b[0m\u001b[0;34m.\u001b[0m\u001b[0m_parent_ident\u001b[0m\u001b[0;34m,\u001b[0m\u001b[0;34m\u001b[0m\u001b[0;34m\u001b[0m\u001b[0m\n\u001b[1;32m    836\u001b[0m             \u001b[0mself\u001b[0m\u001b[0;34m.\u001b[0m\u001b[0m_parent_header\u001b[0m\u001b[0;34m,\u001b[0m\u001b[0;34m\u001b[0m\u001b[0;34m\u001b[0m\u001b[0m\n",
            "\u001b[0;32m/usr/local/lib/python3.10/dist-packages/ipykernel/kernelbase.py\u001b[0m in \u001b[0;36m_input_request\u001b[0;34m(self, prompt, ident, parent, password)\u001b[0m\n\u001b[1;32m    893\u001b[0m             \u001b[0;32mexcept\u001b[0m \u001b[0mKeyboardInterrupt\u001b[0m\u001b[0;34m:\u001b[0m\u001b[0;34m\u001b[0m\u001b[0;34m\u001b[0m\u001b[0m\n\u001b[1;32m    894\u001b[0m                 \u001b[0;31m# re-raise KeyboardInterrupt, to truncate traceback\u001b[0m\u001b[0;34m\u001b[0m\u001b[0;34m\u001b[0m\u001b[0m\n\u001b[0;32m--> 895\u001b[0;31m                 \u001b[0;32mraise\u001b[0m \u001b[0mKeyboardInterrupt\u001b[0m\u001b[0;34m(\u001b[0m\u001b[0;34m\"Interrupted by user\"\u001b[0m\u001b[0;34m)\u001b[0m \u001b[0;32mfrom\u001b[0m \u001b[0;32mNone\u001b[0m\u001b[0;34m\u001b[0m\u001b[0;34m\u001b[0m\u001b[0m\n\u001b[0m\u001b[1;32m    896\u001b[0m             \u001b[0;32mexcept\u001b[0m \u001b[0mException\u001b[0m \u001b[0;32mas\u001b[0m \u001b[0me\u001b[0m\u001b[0;34m:\u001b[0m\u001b[0;34m\u001b[0m\u001b[0;34m\u001b[0m\u001b[0m\n\u001b[1;32m    897\u001b[0m                 \u001b[0mself\u001b[0m\u001b[0;34m.\u001b[0m\u001b[0mlog\u001b[0m\u001b[0;34m.\u001b[0m\u001b[0mwarning\u001b[0m\u001b[0;34m(\u001b[0m\u001b[0;34m\"Invalid Message:\"\u001b[0m\u001b[0;34m,\u001b[0m \u001b[0mexc_info\u001b[0m\u001b[0;34m=\u001b[0m\u001b[0;32mTrue\u001b[0m\u001b[0;34m)\u001b[0m\u001b[0;34m\u001b[0m\u001b[0;34m\u001b[0m\u001b[0m\n",
            "\u001b[0;31mKeyboardInterrupt\u001b[0m: Interrupted by user"
          ]
        }
      ],
      "source": [
        "import firecrawl\n",
        "import getpass\n",
        "\n",
        "FIRECRAWL_API_KEY = getpass.getpass(\"Mendable API Key: \")\n",
        "\n",
        "def scrape_firecrawl(url: str):\n",
        "    app = firecrawl.FirecrawlApp(api_key=FIRECRAWL_API_KEY)\n",
        "    scraped_data = app.scrape_url(url)[\"markdown\"]\n",
        "    return scraped_data"
      ]
    },
    {
      "cell_type": "markdown",
      "metadata": {
        "id": "uEfyleLPaTY5"
      },
      "source": [
        "## Let's run all the scrapers and display them in our comparison table"
      ]
    },
    {
      "cell_type": "code",
      "execution_count": null,
      "metadata": {
        "colab": {
          "base_uri": "https://localhost:8080/"
        },
        "id": "tl8T54D69ojR",
        "outputId": "f33ace46-3e43-4fcc-a17d-af21684badf7"
      },
      "outputs": [
        {
          "name": "stderr",
          "output_type": "stream",
          "text": [
            "Processing site Poshmark using Beautiful Soup: 100%|██████████| 1/1 [00:02<00:00,  2.36s/it]\n",
            "Processing site Poshmark using Jina AI: 100%|██████████| 1/1 [00:00<00:00,  1.40it/s]\n",
            "Processing site dpop using Beautiful Soup: 100%|██████████| 1/1 [00:00<00:00,  5.59it/s]\n",
            "Processing site dpop using Jina AI: 100%|██████████| 1/1 [00:03<00:00,  3.60s/it]\n",
            "Processing site vinted using Beautiful Soup: 100%|██████████| 1/1 [00:01<00:00,  1.91s/it]\n",
            "Processing site vinted using Jina AI: 100%|██████████| 1/1 [00:04<00:00,  4.83s/it]"
          ]
        },
        {
          "name": "stdout",
          "output_type": "stream",
          "text": [
            "Content Table:\n",
            "+-----------+------------------------+----------------------+\n",
            "| Site Name | Beautiful Soup content |   Jina AI content    |\n",
            "+-----------+------------------------+----------------------+\n",
            "|  Poshmark |    <!DOCTYPE html>     |  Title: The request  |\n",
            "|           |                        |     could not be     |\n",
            "|           | <html data-vue-meta=\"% |      satisfied       |\n",
            "|           | 7B%22lang%22:%7B%221%2 |                      |\n",
            "|           | 2:%22en%22%7D,%22xml:l | URL Source: https:// |\n",
            "|           | ang%22:%7B%221%22:%22e | poshmark.com/categor |\n",
            "|           | n%22%7D,%22xmlns%22:%7 |   y/Women-Dresses    |\n",
            "|           | B%221%22:%22http://www |                      |\n",
            "|           | .w3.org/1999/xhtml%22% |  Markdown Content:   |\n",
            "|           |  7D,%22data-vue-meta-  |      403 ERROR       |\n",
            "|           | server-rendered%22:%7B |      ---------       |\n",
            "|           |  %221%22:true%7D%7D\"   |                      |\n",
            "|           | data-vue-meta-server-  |        * * *         |\n",
            "|           |    rendered=\"true\"     |                      |\n",
            "|           |       lang=\"en\"        | Request blocked. We  |\n",
            "|           | xml:lang=\"en\" xmlns=\"h | can't connect to the |\n",
            "|           | ttp://www.w3.org/1999/ | server for this app  |\n",
            "|           |        xhtml\">         |  or website at this  |\n",
            "|           |         <head>         | time. There might be |\n",
            "|           |  <title>Women Dresses  | too much traffic or  |\n",
            "|           |  on Poshmark</title>   |   a configuration    |\n",
            "|           | <meta charset=\"utf-8\"  |   error. Try again   |\n",
            "|           |       data-vue-        |  later, or contact   |\n",
            "|           | meta=\"1\"/><meta conten |  the app or website  |\n",
            "|           |  t=\"IE=edge,chrome=1\"  |        owner.        |\n",
            "|           |   data-vue-meta=\"1\"    |    If you provide    |\n",
            "|           |   http-equiv=\"X-UA-    | content to customers |\n",
            "|           | Compatible\"/><meta con | through CloudFront,  |\n",
            "|           | tent=\"YzU6jJ3yJ0My_t6b |  you can find steps  |\n",
            "|           |        2CmL_z-         | to troubleshoot and  |\n",
            "|           | yjo9gN2QUO2MmQHjAgM0\"  |  help prevent this   |\n",
            "|           |   data-vue-meta=\"1\"    |  error by reviewing  |\n",
            "|           |   name=\"google-site-   |    the CloudFront    |\n",
            "|           |  verification\"/><meta  |    documentation.    |\n",
            "|           | content=\"09278921fdde\" |                      |\n",
            "|           |   data-vue-meta=\"1\"    |        * * *         |\n",
            "|           |      name=\"bitly-      |                      |\n",
            "|           |  verification\"/><meta  |     Generated by     |\n",
            "|           |        content         |      cloudfront      |\n",
            "|           |                        |     (CloudFront)     |\n",
            "|           |                        | Request ID: kMyeSAVW |\n",
            "|           |                        |     TKqKLJqwE9o-     |\n",
            "|           |                        | uq9t3jazohKIycr8rBcW |\n",
            "|           |                        |  nMMh9myRxQ\\_WpQ==   |\n",
            "|           |                        |                      |\n",
            "+-----------+------------------------+----------------------+\n",
            "|    dpop   |    <!DOCTYPE html>     |   Title: Preloved    |\n",
            "|           |                        |  Dresses, Vintage &  |\n",
            "|           |    <html lang=\"en\">    |  Secondhand | Depop  |\n",
            "|           |         <head>         |                      |\n",
            "|           |         <meta          | URL Source: https:// |\n",
            "|           |   charset=\"utf-8\"/>    | www.depop.com/catego |\n",
            "|           |   <title>Forbidden -   |  ry/womens/dresses/  |\n",
            "|           |     Depop</title>      |                      |\n",
            "|           |     <style>*{box-      |  Markdown Content:   |\n",
            "|           |     sizing:border-     |     *   [![Image     |\n",
            "|           |     box}body{font-     | 1](https://media-pho |\n",
            "|           |   family:Arial,sans-   | tos.depop.com/b1/465 |\n",
            "|           | serif;font-size:18px;m | 05227/1897659926_c05 |\n",
            "|           | argin:0;padding:0}a{co | 72dff2d504d14a4b306d |\n",
            "|           | lor:inherit;font-weigh | e5d73d926/P10.jpg)![ |\n",
            "|           | t:700}.boundingBox{dis | Image 2: item listed |\n",
            "|           | play:flex;flex-directi | by gooderdenyou](htt |\n",
            "|           | on:column;height:100vh | ps://media-photos.de |\n",
            "|           |       ;justify-        | pop.com/b1/46505227/ |\n",
            "|           |     content:space-     | 1897659926_c0572dff2 |\n",
            "|           |  between;padding:16px  | d504d14a4b306de5d73d |\n",
            "|           | 7.5vw}.logo-link{max-  | 926/P8.jpg)](https:/ |\n",
            "|           |   width:90px}.logo-    | /www.depop.com/produ |\n",
            "|           |    link,.logo-svg-     |  cts/gooderdenyou-   |\n",
            "|           | path{display:inline-bl | sailor-moon-bikini-  |\n",
            "|           | ock;width:100%}.logo-  |     swim-suit/)      |\n",
            "|           | svg-path{fill:#ff2300; |                      |\n",
            "|           | height:100%}.bigError{ |     *   [![Image     |\n",
            "|           |  font-size:24px;font-  | 3](https://media-pho |\n",
            "|           |   weight:400}@media    | tos.depop.com/b1/201 |\n",
            "|           | screen and (max-width: | 16109/1897621956_e7a |\n",
            "|           | 700px){.boundingBox{pa | 70bbc51e842cabb22fd7 |\n",
            "|           |       dding:30px       | 4f086a49c/P10.jpg)![ |\n",
            "|           |     10px}}</style>     | Image 4: item listed |\n",
            "|           | <link href=\"data:image | by terri_akiyo](http |\n",
            "|           | /ico;base64,AAABAAMAEB | s://media-photos.dep |\n",
            "|           | AAAAAAIABoBAAANgAAACAg | op.com/b1/20116109/1 |\n",
            "|           | AAAAACAAqBAAAJ4EAAAwMA | 897621956_e7a70bbc51 |\n",
            "|           | AAAAAgAKglAABGFQAAKAAA | e842cabb22fd74f086a4 |\n",
            "|           |       ABAAAAAgA        |        9c/P8.        |\n",
            "+-----------+------------------------+----------------------+\n",
            "|   vinted  |    <!DOCTYPE html>     |    Title: Items |    |\n",
            "|           |         <html          |        Vinted        |\n",
            "|           | lang=\"en\"><head><meta  |                      |\n",
            "|           |    content=\"en-US\"     | URL Source: https:// |\n",
            "|           |     name=\"accept-      | www.vinted.com/catal |\n",
            "|           |    language\"/><meta    |    og/10-dresses     |\n",
            "|           | charset=\"utf-8\"/><meta |                      |\n",
            "|           | content=\"width=device- |  Markdown Content:   |\n",
            "|           |    width, initial-     | [![Image 1: Vinted l |\n",
            "|           |       scale=1.0\"       | ogo](https://static. |\n",
            "|           | name=\"viewport\"/><link | vinted.com/assets/we |\n",
            "|           | href=\"https://www.vint | b-logo/default/logo. |\n",
            "|           |   ed.com/catalog/10-   | svg)](https://www.vi |\n",
            "|           |        dresses\"        |  nted.com/ \"Vinted   |\n",
            "|           | rel=\"canonical\"/><link |        logo\")        |\n",
            "|           | href=\"https://www.vint |                      |\n",
            "|           |   ed.fr/catalog/10-    | [Sign up | Log in](h |\n",
            "|           | dresses\" hreflang=\"fr- | ttps://www.vinted.co |\n",
            "|           |          FR\"           | m/member/signup/sele |\n",
            "|           | rel=\"alternate\"/><link | ct_type?ref_url=%2Fc |\n",
            "|           | href=\"https://www.vint | atalog%2F10-dresses) |\n",
            "|           |   ed.es/catalog/10-    |                      |\n",
            "|           | dresses\" hreflang=\"es- | [Sell now](https://w |\n",
            "|           |          ES\"           | ww.vinted.com/member |\n",
            "|           | rel=\"alternate\"/><link | /signup/select_type? |\n",
            "|           | href=\"https://www.vint | ref_url=%2Fitems%2Fn |\n",
            "|           |   ed.be/catalog/10-    | ew)[](https://www.vi |\n",
            "|           | dresses\" hreflang=\"fr- | nted.com/help/360?ac |\n",
            "|           |          BE\"           | cess_channel=vinted_ |\n",
            "|           | rel=\"alternate\"/><link |        guide)        |\n",
            "|           | href=\"https://www.vint |                      |\n",
            "|           |   ed.lu/catalog/10-    |       Language       |\n",
            "|           | dresses\" hreflang=\"fr- |                      |\n",
            "|           |          LU\"           |   ### English, US    |\n",
            "|           | rel=\"alternate\"/><link |                      |\n",
            "|           | href=\"https://www.vint |    ### (English)     |\n",
            "|           |   ed.nl/catalog/10-    |                      |\n",
            "|           | dresses\" hreflang=\"nl- | *   [Women](https:// |\n",
            "|           |          NL\"           | www.vinted.com/catal |\n",
            "|           | rel=\"alternate\"/><link |    og/1904-women)    |\n",
            "|           |          href          | *   [Men](https://ww |\n",
            "|           |                        | w.vinted.com/catalog |\n",
            "|           |                        |       /5-men)        |\n",
            "|           |                        | *   [Kids](https://w |\n",
            "|           |                        | ww.vinted.com/catalo |\n",
            "|           |                        |     g/1193-kids)     |\n",
            "|           |                        | *   [Home](https://w |\n",
            "|           |                        |      ww.vinted.      |\n",
            "+-----------+------------------------+----------------------+\n",
            "\n",
            "Cost Table:\n",
            "This is how much it would cost to use gpt-4o to parse this content for extraction.\n",
            "+-----------+---------------------+--------------+\n",
            "| Site Name | Beautiful Soup cost | Jina AI cost |\n",
            "+-----------+---------------------+--------------+\n",
            "|  Poshmark |      $4.196660      |  $0.000815   |\n",
            "+-----------+---------------------+--------------+\n",
            "|    dpop   |      $0.057095      |  $0.015630   |\n",
            "+-----------+---------------------+--------------+\n",
            "|   vinted  |      $2.310035      |  $0.001425   |\n",
            "+-----------+---------------------+--------------+\n"
          ]
        },
        {
          "name": "stderr",
          "output_type": "stream",
          "text": [
            "\n"
          ]
        }
      ],
      "source": [
        "list_of_scraper_functions = [\n",
        "      {\"name\": \"Beautiful Soup\", \"function\": beautiful_soup_scrape_url},\n",
        "      {\"name\": \"Jina AI\", \"function\": scrape_jina_ai}\n",
        "      ]\n",
        "\n",
        "all_content = view_scraped_content(list_of_scraper_functions, competitor_sites, 700, 20)"
      ]
    },
    {
      "cell_type": "markdown",
      "metadata": {
        "id": "cH3WfAO3LAoP"
      },
      "source": [
        "## Now let's use OpenAI and extract just the information we need\n",
        "\n",
        "Let's see how accurate the extraction task is between each provider.\n",
        "\n"
      ]
    },
    {
      "cell_type": "markdown",
      "metadata": {
        "id": "fee4SzR9qMk0"
      },
      "source": [
        "First, we create an extraction function using OpenAI's gpt-4o to get only the pricing content from each scraped website from each provider."
      ]
    },
    {
      "cell_type": "code",
      "execution_count": null,
      "metadata": {
        "colab": {
          "base_uri": "https://localhost:8080/"
        },
        "id": "tyWh8eUVLQ1n",
        "outputId": "92d576a6-c013-4ebc-c9ae-cff4e02bf3f9"
      },
      "outputs": [
        {
          "name": "stdout",
          "output_type": "stream",
          "text": [
            "\u001b[2K     \u001b[90m━━━━━━━━━━━━━━━━━━━━━━━━━━━━━━━━━━━━━━━━\u001b[0m \u001b[32m325.5/325.5 kB\u001b[0m \u001b[31m4.4 MB/s\u001b[0m eta \u001b[36m0:00:00\u001b[0m\n",
            "\u001b[2K     \u001b[90m━━━━━━━━━━━━━━━━━━━━━━━━━━━━━━━━━━━━━━━━\u001b[0m \u001b[32m75.6/75.6 kB\u001b[0m \u001b[31m7.2 MB/s\u001b[0m eta \u001b[36m0:00:00\u001b[0m\n",
            "\u001b[2K     \u001b[90m━━━━━━━━━━━━━━━━━━━━━━━━━━━━━━━━━━━━━━━━\u001b[0m \u001b[32m77.9/77.9 kB\u001b[0m \u001b[31m4.8 MB/s\u001b[0m eta \u001b[36m0:00:00\u001b[0m\n",
            "\u001b[2K     \u001b[90m━━━━━━━━━━━━━━━━━━━━━━━━━━━━━━━━━━━━━━━━\u001b[0m \u001b[32m58.3/58.3 kB\u001b[0m \u001b[31m6.2 MB/s\u001b[0m eta \u001b[36m0:00:00\u001b[0m\n",
            "\u001b[?25h"
          ]
        }
      ],
      "source": [
        "pip install openai --quiet"
      ]
    },
    {
      "cell_type": "code",
      "execution_count": null,
      "metadata": {
        "colab": {
          "base_uri": "https://localhost:8080/"
        },
        "id": "F9CfGvaYNi7F",
        "outputId": "918d43a5-201b-4009-a085-15922e9fd3b9"
      },
      "outputs": [
        {
          "name": "stdout",
          "output_type": "stream",
          "text": [
            "Enter your OpenAI API key: ··········\n"
          ]
        }
      ],
      "source": [
        "import getpass\n",
        "from openai import OpenAI\n",
        "\n",
        "OPENAI_API_KEY = getpass.getpass('Enter your OpenAI API key: ')\n",
        "\n",
        "client = OpenAI(api_key=OPENAI_API_KEY)\n",
        "\n",
        "def extract(user_input: str):\n",
        "  entity_extraction_system_message = {\"role\": \"system\", \"content\": \"Get me the three pricing tiers from this website's content, and return as a JSON with three keys: {cheapest: {name: str, price: float}, middle: {name: str, price: float}, most_expensive: {name: str, price: float}}\"}\n",
        "\n",
        "  messages = [entity_extraction_system_message]\n",
        "  messages.append({\"role\": \"user\", \"content\": user_input})\n",
        "\n",
        "  response = client.chat.completions.create(\n",
        "        model=\"gpt-4o\",\n",
        "        messages=messages,\n",
        "        stream=False,\n",
        "        response_format={\"type\": \"json_object\"}\n",
        "    )\n",
        "\n",
        "  return response.choices[0].message.content"
      ]
    },
    {
      "cell_type": "markdown",
      "metadata": {
        "id": "ermtSvxSra1I"
      },
      "source": [
        "### Then, we create a utility function to display that content in a table."
      ]
    },
    {
      "cell_type": "code",
      "execution_count": null,
      "metadata": {
        "id": "9XIcSACXkIvn"
      },
      "outputs": [],
      "source": [
        "def display_extracted_content(results: List[Dict[str, any]], num_objects: int):\n",
        "    table = PrettyTable()\n",
        "    table.field_names = [\"Site\", \"Provider Name\", \"Extracted Content\"]\n",
        "\n",
        "    # Ensure num_objects does not exceed the length of the results list\n",
        "    num_objects = min(num_objects, len(results))\n",
        "\n",
        "    # Process the specified number of items from the results list with a progress bar\n",
        "    for result in tqdm(results[:num_objects], desc=\"Processing results\"):\n",
        "        provider_name = result[\"provider\"]\n",
        "\n",
        "        for site in result[\"sites\"]:\n",
        "            function_name = site[\"name\"]\n",
        "            content = site[\"content\"]\n",
        "\n",
        "            # Progress bar for each function\n",
        "            for _ in tqdm(range(1), desc=f\"Extracting content with {provider_name} for {function_name}\"):\n",
        "                extracted_content = extract(content)\n",
        "                table.add_row([provider_name, function_name, extracted_content])\n",
        "\n",
        "    table.max_width = 50  # Set the maximum width for better display\n",
        "    table.hrules = ALL\n",
        "\n",
        "    print(\"Extracted Content Table:\")\n",
        "    print(table)"
      ]
    },
    {
      "cell_type": "code",
      "execution_count": null,
      "metadata": {
        "colab": {
          "base_uri": "https://localhost:8080/",
          "height": 356
        },
        "id": "KkgYywhEqF-V",
        "outputId": "5be1e5ef-a773-4cda-da5e-bd12ac50d879"
      },
      "outputs": [
        {
          "name": "stderr",
          "output_type": "stream",
          "text": [
            "Processing results:   0%|          | 0/3 [00:00<?, ?it/s]\n",
            "Extracting content with Poshmark for Beautiful Soup:   0%|          | 0/1 [00:00<?, ?it/s]\n",
            "Processing results:   0%|          | 0/3 [00:00<?, ?it/s]\n"
          ]
        },
        {
          "ename": "NotFoundError",
          "evalue": "Error code: 404 - {'error': {'message': 'The model `gpt-4o` does not exist or you do not have access to it.', 'type': 'invalid_request_error', 'param': None, 'code': 'model_not_found'}}",
          "output_type": "error",
          "traceback": [
            "\u001b[0;31m---------------------------------------------------------------------------\u001b[0m",
            "\u001b[0;31mNotFoundError\u001b[0m                             Traceback (most recent call last)",
            "\u001b[0;32m<ipython-input-16-8d3e26a8ba73>\u001b[0m in \u001b[0;36m<cell line: 1>\u001b[0;34m()\u001b[0m\n\u001b[0;32m----> 1\u001b[0;31m \u001b[0mdisplay_extracted_content\u001b[0m\u001b[0;34m(\u001b[0m\u001b[0mall_content\u001b[0m\u001b[0;34m,\u001b[0m \u001b[0mnum_objects\u001b[0m\u001b[0;34m=\u001b[0m\u001b[0;36m9\u001b[0m\u001b[0;34m)\u001b[0m\u001b[0;34m\u001b[0m\u001b[0;34m\u001b[0m\u001b[0m\n\u001b[0m",
            "\u001b[0;32m<ipython-input-15-16c2ec2c01c1>\u001b[0m in \u001b[0;36mdisplay_extracted_content\u001b[0;34m(results, num_objects)\u001b[0m\n\u001b[1;32m     16\u001b[0m             \u001b[0;31m# Progress bar for each function\u001b[0m\u001b[0;34m\u001b[0m\u001b[0;34m\u001b[0m\u001b[0m\n\u001b[1;32m     17\u001b[0m             \u001b[0;32mfor\u001b[0m \u001b[0m_\u001b[0m \u001b[0;32min\u001b[0m \u001b[0mtqdm\u001b[0m\u001b[0;34m(\u001b[0m\u001b[0mrange\u001b[0m\u001b[0;34m(\u001b[0m\u001b[0;36m1\u001b[0m\u001b[0;34m)\u001b[0m\u001b[0;34m,\u001b[0m \u001b[0mdesc\u001b[0m\u001b[0;34m=\u001b[0m\u001b[0;34mf\"Extracting content with {provider_name} for {function_name}\"\u001b[0m\u001b[0;34m)\u001b[0m\u001b[0;34m:\u001b[0m\u001b[0;34m\u001b[0m\u001b[0;34m\u001b[0m\u001b[0m\n\u001b[0;32m---> 18\u001b[0;31m                 \u001b[0mextracted_content\u001b[0m \u001b[0;34m=\u001b[0m \u001b[0mextract\u001b[0m\u001b[0;34m(\u001b[0m\u001b[0mcontent\u001b[0m\u001b[0;34m)\u001b[0m\u001b[0;34m\u001b[0m\u001b[0;34m\u001b[0m\u001b[0m\n\u001b[0m\u001b[1;32m     19\u001b[0m                 \u001b[0mtable\u001b[0m\u001b[0;34m.\u001b[0m\u001b[0madd_row\u001b[0m\u001b[0;34m(\u001b[0m\u001b[0;34m[\u001b[0m\u001b[0mprovider_name\u001b[0m\u001b[0;34m,\u001b[0m \u001b[0mfunction_name\u001b[0m\u001b[0;34m,\u001b[0m \u001b[0mextracted_content\u001b[0m\u001b[0;34m]\u001b[0m\u001b[0;34m)\u001b[0m\u001b[0;34m\u001b[0m\u001b[0;34m\u001b[0m\u001b[0m\n\u001b[1;32m     20\u001b[0m \u001b[0;34m\u001b[0m\u001b[0m\n",
            "\u001b[0;32m<ipython-input-14-f5b641e193f9>\u001b[0m in \u001b[0;36mextract\u001b[0;34m(user_input)\u001b[0m\n\u001b[1;32m     12\u001b[0m   \u001b[0mmessages\u001b[0m\u001b[0;34m.\u001b[0m\u001b[0mappend\u001b[0m\u001b[0;34m(\u001b[0m\u001b[0;34m{\u001b[0m\u001b[0;34m\"role\"\u001b[0m\u001b[0;34m:\u001b[0m \u001b[0;34m\"user\"\u001b[0m\u001b[0;34m,\u001b[0m \u001b[0;34m\"content\"\u001b[0m\u001b[0;34m:\u001b[0m \u001b[0muser_input\u001b[0m\u001b[0;34m}\u001b[0m\u001b[0;34m)\u001b[0m\u001b[0;34m\u001b[0m\u001b[0;34m\u001b[0m\u001b[0m\n\u001b[1;32m     13\u001b[0m \u001b[0;34m\u001b[0m\u001b[0m\n\u001b[0;32m---> 14\u001b[0;31m   response = client.chat.completions.create(\n\u001b[0m\u001b[1;32m     15\u001b[0m         \u001b[0mmodel\u001b[0m\u001b[0;34m=\u001b[0m\u001b[0;34m\"gpt-4o\"\u001b[0m\u001b[0;34m,\u001b[0m\u001b[0;34m\u001b[0m\u001b[0;34m\u001b[0m\u001b[0m\n\u001b[1;32m     16\u001b[0m         \u001b[0mmessages\u001b[0m\u001b[0;34m=\u001b[0m\u001b[0mmessages\u001b[0m\u001b[0;34m,\u001b[0m\u001b[0;34m\u001b[0m\u001b[0;34m\u001b[0m\u001b[0m\n",
            "\u001b[0;32m/usr/local/lib/python3.10/dist-packages/openai/_utils/_utils.py\u001b[0m in \u001b[0;36mwrapper\u001b[0;34m(*args, **kwargs)\u001b[0m\n\u001b[1;32m    275\u001b[0m                         \u001b[0mmsg\u001b[0m \u001b[0;34m=\u001b[0m \u001b[0;34mf\"Missing required argument: {quote(missing[0])}\"\u001b[0m\u001b[0;34m\u001b[0m\u001b[0;34m\u001b[0m\u001b[0m\n\u001b[1;32m    276\u001b[0m                 \u001b[0;32mraise\u001b[0m \u001b[0mTypeError\u001b[0m\u001b[0;34m(\u001b[0m\u001b[0mmsg\u001b[0m\u001b[0;34m)\u001b[0m\u001b[0;34m\u001b[0m\u001b[0;34m\u001b[0m\u001b[0m\n\u001b[0;32m--> 277\u001b[0;31m             \u001b[0;32mreturn\u001b[0m \u001b[0mfunc\u001b[0m\u001b[0;34m(\u001b[0m\u001b[0;34m*\u001b[0m\u001b[0margs\u001b[0m\u001b[0;34m,\u001b[0m \u001b[0;34m**\u001b[0m\u001b[0mkwargs\u001b[0m\u001b[0;34m)\u001b[0m\u001b[0;34m\u001b[0m\u001b[0;34m\u001b[0m\u001b[0m\n\u001b[0m\u001b[1;32m    278\u001b[0m \u001b[0;34m\u001b[0m\u001b[0m\n\u001b[1;32m    279\u001b[0m         \u001b[0;32mreturn\u001b[0m \u001b[0mwrapper\u001b[0m  \u001b[0;31m# type: ignore\u001b[0m\u001b[0;34m\u001b[0m\u001b[0;34m\u001b[0m\u001b[0m\n",
            "\u001b[0;32m/usr/local/lib/python3.10/dist-packages/openai/resources/chat/completions.py\u001b[0m in \u001b[0;36mcreate\u001b[0;34m(self, messages, model, frequency_penalty, function_call, functions, logit_bias, logprobs, max_tokens, n, parallel_tool_calls, presence_penalty, response_format, seed, stop, stream, stream_options, temperature, tool_choice, tools, top_logprobs, top_p, user, extra_headers, extra_query, extra_body, timeout)\u001b[0m\n\u001b[1;32m    604\u001b[0m         \u001b[0mtimeout\u001b[0m\u001b[0;34m:\u001b[0m \u001b[0mfloat\u001b[0m \u001b[0;34m|\u001b[0m \u001b[0mhttpx\u001b[0m\u001b[0;34m.\u001b[0m\u001b[0mTimeout\u001b[0m \u001b[0;34m|\u001b[0m \u001b[0;32mNone\u001b[0m \u001b[0;34m|\u001b[0m \u001b[0mNotGiven\u001b[0m \u001b[0;34m=\u001b[0m \u001b[0mNOT_GIVEN\u001b[0m\u001b[0;34m,\u001b[0m\u001b[0;34m\u001b[0m\u001b[0;34m\u001b[0m\u001b[0m\n\u001b[1;32m    605\u001b[0m     ) -> ChatCompletion | Stream[ChatCompletionChunk]:\n\u001b[0;32m--> 606\u001b[0;31m         return self._post(\n\u001b[0m\u001b[1;32m    607\u001b[0m             \u001b[0;34m\"/chat/completions\"\u001b[0m\u001b[0;34m,\u001b[0m\u001b[0;34m\u001b[0m\u001b[0;34m\u001b[0m\u001b[0m\n\u001b[1;32m    608\u001b[0m             body=maybe_transform(\n",
            "\u001b[0;32m/usr/local/lib/python3.10/dist-packages/openai/_base_client.py\u001b[0m in \u001b[0;36mpost\u001b[0;34m(self, path, cast_to, body, options, files, stream, stream_cls)\u001b[0m\n\u001b[1;32m   1238\u001b[0m             \u001b[0mmethod\u001b[0m\u001b[0;34m=\u001b[0m\u001b[0;34m\"post\"\u001b[0m\u001b[0;34m,\u001b[0m \u001b[0murl\u001b[0m\u001b[0;34m=\u001b[0m\u001b[0mpath\u001b[0m\u001b[0;34m,\u001b[0m \u001b[0mjson_data\u001b[0m\u001b[0;34m=\u001b[0m\u001b[0mbody\u001b[0m\u001b[0;34m,\u001b[0m \u001b[0mfiles\u001b[0m\u001b[0;34m=\u001b[0m\u001b[0mto_httpx_files\u001b[0m\u001b[0;34m(\u001b[0m\u001b[0mfiles\u001b[0m\u001b[0;34m)\u001b[0m\u001b[0;34m,\u001b[0m \u001b[0;34m**\u001b[0m\u001b[0moptions\u001b[0m\u001b[0;34m\u001b[0m\u001b[0;34m\u001b[0m\u001b[0m\n\u001b[1;32m   1239\u001b[0m         )\n\u001b[0;32m-> 1240\u001b[0;31m         \u001b[0;32mreturn\u001b[0m \u001b[0mcast\u001b[0m\u001b[0;34m(\u001b[0m\u001b[0mResponseT\u001b[0m\u001b[0;34m,\u001b[0m \u001b[0mself\u001b[0m\u001b[0;34m.\u001b[0m\u001b[0mrequest\u001b[0m\u001b[0;34m(\u001b[0m\u001b[0mcast_to\u001b[0m\u001b[0;34m,\u001b[0m \u001b[0mopts\u001b[0m\u001b[0;34m,\u001b[0m \u001b[0mstream\u001b[0m\u001b[0;34m=\u001b[0m\u001b[0mstream\u001b[0m\u001b[0;34m,\u001b[0m \u001b[0mstream_cls\u001b[0m\u001b[0;34m=\u001b[0m\u001b[0mstream_cls\u001b[0m\u001b[0;34m)\u001b[0m\u001b[0;34m)\u001b[0m\u001b[0;34m\u001b[0m\u001b[0;34m\u001b[0m\u001b[0m\n\u001b[0m\u001b[1;32m   1241\u001b[0m \u001b[0;34m\u001b[0m\u001b[0m\n\u001b[1;32m   1242\u001b[0m     def patch(\n",
            "\u001b[0;32m/usr/local/lib/python3.10/dist-packages/openai/_base_client.py\u001b[0m in \u001b[0;36mrequest\u001b[0;34m(self, cast_to, options, remaining_retries, stream, stream_cls)\u001b[0m\n\u001b[1;32m    919\u001b[0m         \u001b[0mstream_cls\u001b[0m\u001b[0;34m:\u001b[0m \u001b[0mtype\u001b[0m\u001b[0;34m[\u001b[0m\u001b[0m_StreamT\u001b[0m\u001b[0;34m]\u001b[0m \u001b[0;34m|\u001b[0m \u001b[0;32mNone\u001b[0m \u001b[0;34m=\u001b[0m \u001b[0;32mNone\u001b[0m\u001b[0;34m,\u001b[0m\u001b[0;34m\u001b[0m\u001b[0;34m\u001b[0m\u001b[0m\n\u001b[1;32m    920\u001b[0m     ) -> ResponseT | _StreamT:\n\u001b[0;32m--> 921\u001b[0;31m         return self._request(\n\u001b[0m\u001b[1;32m    922\u001b[0m             \u001b[0mcast_to\u001b[0m\u001b[0;34m=\u001b[0m\u001b[0mcast_to\u001b[0m\u001b[0;34m,\u001b[0m\u001b[0;34m\u001b[0m\u001b[0;34m\u001b[0m\u001b[0m\n\u001b[1;32m    923\u001b[0m             \u001b[0moptions\u001b[0m\u001b[0;34m=\u001b[0m\u001b[0moptions\u001b[0m\u001b[0;34m,\u001b[0m\u001b[0;34m\u001b[0m\u001b[0;34m\u001b[0m\u001b[0m\n",
            "\u001b[0;32m/usr/local/lib/python3.10/dist-packages/openai/_base_client.py\u001b[0m in \u001b[0;36m_request\u001b[0;34m(self, cast_to, options, remaining_retries, stream, stream_cls)\u001b[0m\n\u001b[1;32m   1018\u001b[0m \u001b[0;34m\u001b[0m\u001b[0m\n\u001b[1;32m   1019\u001b[0m             \u001b[0mlog\u001b[0m\u001b[0;34m.\u001b[0m\u001b[0mdebug\u001b[0m\u001b[0;34m(\u001b[0m\u001b[0;34m\"Re-raising status error\"\u001b[0m\u001b[0;34m)\u001b[0m\u001b[0;34m\u001b[0m\u001b[0;34m\u001b[0m\u001b[0m\n\u001b[0;32m-> 1020\u001b[0;31m             \u001b[0;32mraise\u001b[0m \u001b[0mself\u001b[0m\u001b[0;34m.\u001b[0m\u001b[0m_make_status_error_from_response\u001b[0m\u001b[0;34m(\u001b[0m\u001b[0merr\u001b[0m\u001b[0;34m.\u001b[0m\u001b[0mresponse\u001b[0m\u001b[0;34m)\u001b[0m \u001b[0;32mfrom\u001b[0m \u001b[0;32mNone\u001b[0m\u001b[0;34m\u001b[0m\u001b[0;34m\u001b[0m\u001b[0m\n\u001b[0m\u001b[1;32m   1021\u001b[0m \u001b[0;34m\u001b[0m\u001b[0m\n\u001b[1;32m   1022\u001b[0m         return self._process_response(\n",
            "\u001b[0;31mNotFoundError\u001b[0m: Error code: 404 - {'error': {'message': 'The model `gpt-4o` does not exist or you do not have access to it.', 'type': 'invalid_request_error', 'param': None, 'code': 'model_not_found'}}"
          ]
        }
      ],
      "source": [
        "\n",
        "display_extracted_content(all_content, num_objects=9)"
      ]
    },
    {
      "cell_type": "code",
      "execution_count": null,
      "metadata": {
        "id": "JIEQytLaN-vm"
      },
      "outputs": [],
      "source": []
    },
    {
      "cell_type": "markdown",
      "metadata": {
        "id": "_fYI3_sKJi2M"
      },
      "source": [
        "## Bonus: Scrapegraph-ai"
      ]
    },
    {
      "cell_type": "markdown",
      "metadata": {
        "id": "-hW7r5VJctoo"
      },
      "source": [
        "### Scrapegraph-ai\n",
        "\n",
        "Scrapegraph-ai takes care of the entire flow (from scrape to extraction). It's also interesting that it's node-based, and can run off of local models (Ollama supported). But I couldn't find a way to get cost estimates based on tokens used.\n",
        "\n",
        "Demo link: https://scrapegraph-ai-demo.streamlit.app/\n"
      ]
    }
  ],
  "metadata": {
    "colab": {
      "collapsed_sections": [
        "LMx4qMhlcnOA",
        "5JzWHcoCc1uC"
      ],
      "provenance": []
    },
    "kernelspec": {
      "display_name": "Python 3",
      "name": "python3"
    },
    "language_info": {
      "name": "python",
      "version": "3.8.8"
    }
  },
  "nbformat": 4,
  "nbformat_minor": 0
}
